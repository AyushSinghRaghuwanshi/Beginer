{
  "nbformat": 4,
  "nbformat_minor": 0,
  "metadata": {
    "colab": {
      "name": "Calculator.ipynb",
      "provenance": [],
      "authorship_tag": "ABX9TyNvl6WrfgcXlo/aw/3ezH4o",
      "include_colab_link": true
    },
    "kernelspec": {
      "name": "python3",
      "display_name": "Python 3"
    }
  },
  "cells": [
    {
      "cell_type": "markdown",
      "metadata": {
        "id": "view-in-github",
        "colab_type": "text"
      },
      "source": [
        "<a href=\"https://colab.research.google.com/github/AyushSinghRaghuwanshi/Beginer/blob/main/Calculator.ipynb\" target=\"_parent\"><img src=\"https://colab.research.google.com/assets/colab-badge.svg\" alt=\"Open In Colab\"/></a>"
      ]
    },
    {
      "cell_type": "code",
      "metadata": {
        "id": "RczmexSGZCQ3"
      },
      "source": [
        "def add(x,y):\r\n",
        "  return x+y;\r\n",
        "def substract(x,y):\r\n",
        "  return x-y;\r\n",
        "def mul(x,y):\r\n",
        "  return x*y;\r\n",
        "def div(x,y):\r\n",
        "  return x/y;\r\n"
      ],
      "execution_count": 5,
      "outputs": []
    },
    {
      "cell_type": "code",
      "metadata": {
        "colab": {
          "base_uri": "https://localhost:8080/"
        },
        "id": "1iRnNp2Mcq_b",
        "outputId": "60a196cf-23a9-4bf3-8ebe-adcddf13c707"
      },
      "source": [
        "print(\"Enter Your Choice\")\r\n",
        "print(\"1.Addition\")\r\n",
        "print(\"2.Subtraction\")\r\n",
        "print(\"3.Multiplication\")\r\n",
        "print(\"4.Division\")"
      ],
      "execution_count": 6,
      "outputs": [
        {
          "output_type": "stream",
          "text": [
            "Enter Your Choice\n",
            "1.Addition\n",
            "2.Subtraction\n",
            "3.Multiplication\n",
            "4.Division\n"
          ],
          "name": "stdout"
        }
      ]
    },
    {
      "cell_type": "code",
      "metadata": {
        "colab": {
          "base_uri": "https://localhost:8080/"
        },
        "id": "uLfnfRD0cz-f",
        "outputId": "9492c8c3-fdda-4d25-e6d3-d4255d52f85a"
      },
      "source": [
        "while True:\r\n",
        "    choice = input(\"Enter Your Choice: \")\r\n",
        "    if choice in('1','2','3','4'):\r\n",
        "        num1 = float(input(\"Enter First Number: \"))\r\n",
        "        num2 = float(input(\"Enter Second Number: \"))\r\n",
        "\r\n",
        "        if choice == '1':\r\n",
        "            print(num1, \"+\", num2, \"=\", add(num1, num2))\r\n",
        "\r\n",
        "        elif choice == '2':\r\n",
        "            print(num1, \"-\", num2, \"=\", sub(num1, num2))\r\n",
        "\r\n",
        "        elif choice == '3':\r\n",
        "            print(num1, \"*\", num2, \"=\", mul(num1, num2))\r\n",
        "\r\n",
        "        elif choice == '4':\r\n",
        "            print(num1, \"/\", num2, \"=\", div(num1, num2))\r\n",
        "        break\r\n",
        "    else:\r\n",
        "        print(\"Invalid Input\")\r\n"
      ],
      "execution_count": 11,
      "outputs": [
        {
          "output_type": "stream",
          "text": [
            "Enter Your Choice: 4\n",
            "Enter First Number: 4\n",
            "Enter Second Number: 2\n",
            "4.0 / 2.0 = 2.0\n"
          ],
          "name": "stdout"
        }
      ]
    },
    {
      "cell_type": "code",
      "metadata": {
        "id": "AhMWWk3DeaDw"
      },
      "source": [
        ""
      ],
      "execution_count": 9,
      "outputs": []
    }
  ]
}